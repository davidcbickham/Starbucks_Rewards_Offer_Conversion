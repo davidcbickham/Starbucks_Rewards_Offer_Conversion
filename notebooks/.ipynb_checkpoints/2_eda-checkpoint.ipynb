{
 "cells": [
  {
   "cell_type": "markdown",
   "metadata": {},
   "source": [
    "# EDA Notebook"
   ]
  },
  {
   "cell_type": "markdown",
   "metadata": {},
   "source": [
    "## Import data"
   ]
  },
  {
   "cell_type": "code",
   "execution_count": 1,
   "metadata": {},
   "outputs": [],
   "source": [
    "import pandas as pd\n",
    "import numpy as np\n",
    "import seaborn as sns\n",
    "import matplotlib.pyplot as plt"
   ]
  },
  {
   "cell_type": "code",
   "execution_count": 2,
   "metadata": {},
   "outputs": [
    {
     "name": "stdout",
     "output_type": "stream",
     "text": [
      "<class 'pandas.core.frame.DataFrame'>\n",
      "Int64Index: 63288 entries, 0 to 63287\n",
      "Data columns (total 28 columns):\n",
      " #   Column                 Non-Null Count  Dtype         \n",
      "---  ------                 --------------  -----         \n",
      " 0   person                 63288 non-null  object        \n",
      " 1   event                  63288 non-null  object        \n",
      " 2   time_received          63288 non-null  int64         \n",
      " 3   amount                 63288 non-null  float64       \n",
      " 4   offer_id               63288 non-null  object        \n",
      " 5   reward                 63288 non-null  float64       \n",
      " 6   difficulty             63288 non-null  float64       \n",
      " 7   duration               63288 non-null  float64       \n",
      " 8   offer_type             63288 non-null  object        \n",
      " 9   email                  63288 non-null  float64       \n",
      " 10  mobile                 63288 non-null  float64       \n",
      " 11  web                    63288 non-null  float64       \n",
      " 12  social                 63288 non-null  float64       \n",
      " 13  total_channels         63288 non-null  float64       \n",
      " 14  gender                 63288 non-null  object        \n",
      " 15  age                    63288 non-null  int64         \n",
      " 16  income                 55222 non-null  float64       \n",
      " 17  member_date            63288 non-null  datetime64[ns]\n",
      " 18  member_year            63288 non-null  int64         \n",
      " 19  tenure                 63288 non-null  int64         \n",
      " 20  offer_received_count   63288 non-null  int64         \n",
      " 21  time_viewed            49135 non-null  float64       \n",
      " 22  offer_viewed_count     63288 non-null  int64         \n",
      " 23  time_completed         28996 non-null  float64       \n",
      " 24  offer_completed_count  63288 non-null  int64         \n",
      " 25  offer_viewed_flag      63288 non-null  int64         \n",
      " 26  offer_completed_flag   63288 non-null  int64         \n",
      " 27  conversion_flag        63288 non-null  int64         \n",
      "dtypes: datetime64[ns](1), float64(12), int64(10), object(5)\n",
      "memory usage: 14.0+ MB\n"
     ]
    }
   ],
   "source": [
    "df_conversion = pd.read_pickle('../input/df_conversion.pkl')\n",
    "df_conversion.info()"
   ]
  },
  {
   "cell_type": "code",
   "execution_count": 3,
   "metadata": {},
   "outputs": [
    {
     "data": {
      "text/html": [
       "<div>\n",
       "<style scoped>\n",
       "    .dataframe tbody tr th:only-of-type {\n",
       "        vertical-align: middle;\n",
       "    }\n",
       "\n",
       "    .dataframe tbody tr th {\n",
       "        vertical-align: top;\n",
       "    }\n",
       "\n",
       "    .dataframe thead th {\n",
       "        text-align: right;\n",
       "    }\n",
       "</style>\n",
       "<table border=\"1\" class=\"dataframe\">\n",
       "  <thead>\n",
       "    <tr style=\"text-align: right;\">\n",
       "      <th></th>\n",
       "      <th>person</th>\n",
       "      <th>event</th>\n",
       "      <th>time_received</th>\n",
       "      <th>amount</th>\n",
       "      <th>offer_id</th>\n",
       "      <th>reward</th>\n",
       "      <th>difficulty</th>\n",
       "      <th>duration</th>\n",
       "      <th>offer_type</th>\n",
       "      <th>email</th>\n",
       "      <th>...</th>\n",
       "      <th>member_year</th>\n",
       "      <th>tenure</th>\n",
       "      <th>offer_received_count</th>\n",
       "      <th>time_viewed</th>\n",
       "      <th>offer_viewed_count</th>\n",
       "      <th>time_completed</th>\n",
       "      <th>offer_completed_count</th>\n",
       "      <th>offer_viewed_flag</th>\n",
       "      <th>offer_completed_flag</th>\n",
       "      <th>conversion_flag</th>\n",
       "    </tr>\n",
       "  </thead>\n",
       "  <tbody>\n",
       "    <tr>\n",
       "      <th>0</th>\n",
       "      <td>0009655768c64bdeb2e877511632db8f</td>\n",
       "      <td>offer received</td>\n",
       "      <td>576</td>\n",
       "      <td>0.0</td>\n",
       "      <td>2906b810c7d4411798c6938adc9daaa5</td>\n",
       "      <td>2.0</td>\n",
       "      <td>10.0</td>\n",
       "      <td>7.0</td>\n",
       "      <td>discount</td>\n",
       "      <td>1.0</td>\n",
       "      <td>...</td>\n",
       "      <td>2017</td>\n",
       "      <td>1</td>\n",
       "      <td>1</td>\n",
       "      <td>NaN</td>\n",
       "      <td>0</td>\n",
       "      <td>576.0</td>\n",
       "      <td>1</td>\n",
       "      <td>0</td>\n",
       "      <td>1</td>\n",
       "      <td>0</td>\n",
       "    </tr>\n",
       "    <tr>\n",
       "      <th>1</th>\n",
       "      <td>0009655768c64bdeb2e877511632db8f</td>\n",
       "      <td>offer received</td>\n",
       "      <td>336</td>\n",
       "      <td>0.0</td>\n",
       "      <td>3f207df678b143eea3cee63160fa8bed</td>\n",
       "      <td>0.0</td>\n",
       "      <td>0.0</td>\n",
       "      <td>4.0</td>\n",
       "      <td>informational</td>\n",
       "      <td>1.0</td>\n",
       "      <td>...</td>\n",
       "      <td>2017</td>\n",
       "      <td>1</td>\n",
       "      <td>1</td>\n",
       "      <td>372.0</td>\n",
       "      <td>1</td>\n",
       "      <td>NaN</td>\n",
       "      <td>0</td>\n",
       "      <td>1</td>\n",
       "      <td>0</td>\n",
       "      <td>0</td>\n",
       "    </tr>\n",
       "    <tr>\n",
       "      <th>2</th>\n",
       "      <td>0009655768c64bdeb2e877511632db8f</td>\n",
       "      <td>offer received</td>\n",
       "      <td>168</td>\n",
       "      <td>0.0</td>\n",
       "      <td>5a8bc65990b245e5a138643cd4eb9837</td>\n",
       "      <td>0.0</td>\n",
       "      <td>0.0</td>\n",
       "      <td>3.0</td>\n",
       "      <td>informational</td>\n",
       "      <td>1.0</td>\n",
       "      <td>...</td>\n",
       "      <td>2017</td>\n",
       "      <td>1</td>\n",
       "      <td>1</td>\n",
       "      <td>192.0</td>\n",
       "      <td>1</td>\n",
       "      <td>NaN</td>\n",
       "      <td>0</td>\n",
       "      <td>1</td>\n",
       "      <td>0</td>\n",
       "      <td>0</td>\n",
       "    </tr>\n",
       "    <tr>\n",
       "      <th>3</th>\n",
       "      <td>0009655768c64bdeb2e877511632db8f</td>\n",
       "      <td>offer received</td>\n",
       "      <td>408</td>\n",
       "      <td>0.0</td>\n",
       "      <td>f19421c1d4aa40978ebb69ca19b0e20d</td>\n",
       "      <td>5.0</td>\n",
       "      <td>5.0</td>\n",
       "      <td>5.0</td>\n",
       "      <td>bogo</td>\n",
       "      <td>1.0</td>\n",
       "      <td>...</td>\n",
       "      <td>2017</td>\n",
       "      <td>1</td>\n",
       "      <td>1</td>\n",
       "      <td>456.0</td>\n",
       "      <td>1</td>\n",
       "      <td>414.0</td>\n",
       "      <td>1</td>\n",
       "      <td>1</td>\n",
       "      <td>1</td>\n",
       "      <td>1</td>\n",
       "    </tr>\n",
       "    <tr>\n",
       "      <th>4</th>\n",
       "      <td>0009655768c64bdeb2e877511632db8f</td>\n",
       "      <td>offer received</td>\n",
       "      <td>504</td>\n",
       "      <td>0.0</td>\n",
       "      <td>fafdcd668e3743c1bb461111dcafc2a4</td>\n",
       "      <td>2.0</td>\n",
       "      <td>10.0</td>\n",
       "      <td>10.0</td>\n",
       "      <td>discount</td>\n",
       "      <td>1.0</td>\n",
       "      <td>...</td>\n",
       "      <td>2017</td>\n",
       "      <td>1</td>\n",
       "      <td>1</td>\n",
       "      <td>540.0</td>\n",
       "      <td>1</td>\n",
       "      <td>528.0</td>\n",
       "      <td>1</td>\n",
       "      <td>1</td>\n",
       "      <td>1</td>\n",
       "      <td>1</td>\n",
       "    </tr>\n",
       "  </tbody>\n",
       "</table>\n",
       "<p>5 rows × 28 columns</p>\n",
       "</div>"
      ],
      "text/plain": [
       "                             person           event  time_received  amount  \\\n",
       "0  0009655768c64bdeb2e877511632db8f  offer received            576     0.0   \n",
       "1  0009655768c64bdeb2e877511632db8f  offer received            336     0.0   \n",
       "2  0009655768c64bdeb2e877511632db8f  offer received            168     0.0   \n",
       "3  0009655768c64bdeb2e877511632db8f  offer received            408     0.0   \n",
       "4  0009655768c64bdeb2e877511632db8f  offer received            504     0.0   \n",
       "\n",
       "                           offer_id  reward  difficulty  duration  \\\n",
       "0  2906b810c7d4411798c6938adc9daaa5     2.0        10.0       7.0   \n",
       "1  3f207df678b143eea3cee63160fa8bed     0.0         0.0       4.0   \n",
       "2  5a8bc65990b245e5a138643cd4eb9837     0.0         0.0       3.0   \n",
       "3  f19421c1d4aa40978ebb69ca19b0e20d     5.0         5.0       5.0   \n",
       "4  fafdcd668e3743c1bb461111dcafc2a4     2.0        10.0      10.0   \n",
       "\n",
       "      offer_type  email  ...  member_year  tenure  offer_received_count  \\\n",
       "0       discount    1.0  ...         2017       1                     1   \n",
       "1  informational    1.0  ...         2017       1                     1   \n",
       "2  informational    1.0  ...         2017       1                     1   \n",
       "3           bogo    1.0  ...         2017       1                     1   \n",
       "4       discount    1.0  ...         2017       1                     1   \n",
       "\n",
       "   time_viewed offer_viewed_count  time_completed  offer_completed_count  \\\n",
       "0          NaN                  0           576.0                      1   \n",
       "1        372.0                  1             NaN                      0   \n",
       "2        192.0                  1             NaN                      0   \n",
       "3        456.0                  1           414.0                      1   \n",
       "4        540.0                  1           528.0                      1   \n",
       "\n",
       "  offer_viewed_flag  offer_completed_flag  conversion_flag  \n",
       "0                 0                     1                0  \n",
       "1                 1                     0                0  \n",
       "2                 1                     0                0  \n",
       "3                 1                     1                1  \n",
       "4                 1                     1                1  \n",
       "\n",
       "[5 rows x 28 columns]"
      ]
     },
     "execution_count": 3,
     "metadata": {},
     "output_type": "execute_result"
    }
   ],
   "source": [
    "df_conversion.head()"
   ]
  },
  {
   "cell_type": "code",
   "execution_count": 4,
   "metadata": {},
   "outputs": [
    {
     "data": {
      "text/plain": [
       "0    0.61\n",
       "1    0.39\n",
       "Name: conversion_flag, dtype: float64"
      ]
     },
     "execution_count": 4,
     "metadata": {},
     "output_type": "execute_result"
    }
   ],
   "source": [
    "# Proportion of converted vs non converted offers\n",
    "df_conversion['conversion_flag'].value_counts(normalize=True).round(2)"
   ]
  },
  {
   "cell_type": "markdown",
   "metadata": {},
   "source": [
    "39% of offer received events we're ultimately converted, meaning the user viewed and completed the offer"
   ]
  },
  {
   "cell_type": "code",
   "execution_count": 5,
   "metadata": {},
   "outputs": [
    {
     "data": {
      "text/plain": [
       "offer_type\n",
       "bogo             0.47\n",
       "discount         0.50\n",
       "informational    0.00\n",
       "Name: conversion_flag, dtype: float64"
      ]
     },
     "execution_count": 5,
     "metadata": {},
     "output_type": "execute_result"
    }
   ],
   "source": [
    "df_conversion.groupby('offer_type')['conversion_flag'].mean().round(2)"
   ]
  },
  {
   "cell_type": "markdown",
   "metadata": {},
   "source": [
    "We can see that 50% of discount offers received were converted, and 47% of BOGO offers received were converted. "
   ]
  },
  {
   "cell_type": "code",
   "execution_count": 6,
   "metadata": {},
   "outputs": [
    {
     "data": {
      "text/plain": [
       "1    9309\n",
       "0    3342\n",
       "Name: offer_viewed_flag, dtype: int64"
      ]
     },
     "execution_count": 6,
     "metadata": {},
     "output_type": "execute_result"
    }
   ],
   "source": [
    "df_conversion[df_conversion['offer_type'] == 'informational']['offer_viewed_flag'].value_counts()"
   ]
  },
  {
   "cell_type": "markdown",
   "metadata": {},
   "source": [
    "In the case of 'informational' offers, these can only be viewed and not actually completed. For simplicity it may make sense to just exclude the offer received events entirely as they have no chance of being converted"
   ]
  },
  {
   "cell_type": "code",
   "execution_count": 7,
   "metadata": {},
   "outputs": [
    {
     "data": {
      "text/plain": [
       "bogo             25321\n",
       "discount         25316\n",
       "informational    12651\n",
       "Name: offer_type, dtype: int64"
      ]
     },
     "execution_count": 7,
     "metadata": {},
     "output_type": "execute_result"
    }
   ],
   "source": [
    "df_conversion['offer_type'].value_counts()"
   ]
  },
  {
   "cell_type": "markdown",
   "metadata": {},
   "source": [
    "Removing obs where the offer type is informational would reduce the dataset from 63K to roughly 51K"
   ]
  },
  {
   "cell_type": "markdown",
   "metadata": {},
   "source": [
    "### Removing Informational Offers from the Conversion Table"
   ]
  },
  {
   "cell_type": "code",
   "execution_count": 8,
   "metadata": {},
   "outputs": [
    {
     "data": {
      "text/plain": [
       "(50637, 28)"
      ]
     },
     "execution_count": 8,
     "metadata": {},
     "output_type": "execute_result"
    }
   ],
   "source": [
    "df_conversion_v2 = df_conversion[df_conversion['offer_type'] != 'informational']\n",
    "df_conversion_v2.shape"
   ]
  },
  {
   "cell_type": "code",
   "execution_count": 9,
   "metadata": {},
   "outputs": [
    {
     "data": {
      "text/plain": [
       "0    0.52\n",
       "1    0.48\n",
       "Name: conversion_flag, dtype: float64"
      ]
     },
     "execution_count": 9,
     "metadata": {},
     "output_type": "execute_result"
    }
   ],
   "source": [
    "# Proportion of converted vs non converted offers\n",
    "df_conversion_v2['conversion_flag'].value_counts(normalize=True).round(2)"
   ]
  },
  {
   "cell_type": "markdown",
   "metadata": {},
   "source": [
    "Now we see that the proportion of positive class has increased to 48%, nearly even with the negative class"
   ]
  },
  {
   "cell_type": "code",
   "execution_count": 10,
   "metadata": {},
   "outputs": [
    {
     "data": {
      "text/plain": [
       "0.614171646662984"
      ]
     },
     "execution_count": 10,
     "metadata": {},
     "output_type": "execute_result"
    }
   ],
   "source": [
    "df_conversion_v2[df_conversion_v2['offer_viewed_flag'] == 1]['conversion_flag'].mean()"
   ]
  },
  {
   "cell_type": "markdown",
   "metadata": {},
   "source": [
    "Among users that viewed the offer 61% eventually converted"
   ]
  },
  {
   "cell_type": "markdown",
   "metadata": {},
   "source": [
    "### Analyze Variability in Conversion Rate by Categorical Features"
   ]
  },
  {
   "cell_type": "markdown",
   "metadata": {},
   "source": [
    "Looking at how the avg. conversion rate differs across categorical features can indicate which features will most predictive in the final model"
   ]
  },
  {
   "cell_type": "code",
   "execution_count": 11,
   "metadata": {},
   "outputs": [
    {
     "data": {
      "text/plain": [
       "gender\n",
       "F          0.604383\n",
       "M          0.477058\n",
       "O          0.648515\n",
       "Unknown    0.148854\n",
       "Name: conversion_flag, dtype: float64"
      ]
     },
     "execution_count": 11,
     "metadata": {},
     "output_type": "execute_result"
    }
   ],
   "source": [
    "df_conversion_v2.groupby('gender')['conversion_flag'].mean()"
   ]
  },
  {
   "cell_type": "code",
   "execution_count": 12,
   "metadata": {},
   "outputs": [
    {
     "data": {
      "text/plain": [
       "''"
      ]
     },
     "execution_count": 12,
     "metadata": {},
     "output_type": "execute_result"
    },
    {
     "data": {
      "image/png": "[encoded data removed]",
      "text/plain": [
       "<Figure size 432x288 with 1 Axes>"
      ]
     },
     "metadata": {
      "needs_background": "light"
     },
     "output_type": "display_data"
    }
   ],
   "source": [
    "# plot the avg. conversion by gender\n",
    "conversion_by_gender = df_conversion_v2.groupby('gender')['conversion_flag'].mean()\n",
    "plt.bar(conversion_by_gender.index, conversion_by_gender.values)\n",
    "plt.title('Avg. Conversion by Gender', fontsize=18)\n",
    "plt.xlabel('Gender', fontsize=16)\n",
    "plt.ylabel('Avg. Conversion', fontsize=16)\n",
    "# plt.savefig('../images/conversion_by_gender.png')\n",
    ";"
   ]
  },
  {
   "cell_type": "markdown",
   "metadata": {},
   "source": [
    "There appears to be some variability in conversion by gender, with women converting at 60% and men at just 48%. Unknown users (users with null demographic data) have the lowest conversion at 15%. This would indicate that this this subset of users is not representative of the entire population"
   ]
  },
  {
   "cell_type": "code",
   "execution_count": 13,
   "metadata": {},
   "outputs": [
    {
     "data": {
      "text/plain": [
       "''"
      ]
     },
     "execution_count": 13,
     "metadata": {},
     "output_type": "execute_result"
    },
    {
     "data": {
      "image/png": "[encoded data removed]",
      "text/plain": [
       "<Figure size 432x288 with 1 Axes>"
      ]
     },
     "metadata": {
      "needs_background": "light"
     },
     "output_type": "display_data"
    }
   ],
   "source": [
    "conversion_by_year = df_conversion_v2.groupby('member_year')['conversion_flag'].mean()\n",
    "plt.bar(conversion_by_year.index, conversion_by_year.values)\n",
    "plt.title('Avg. Conversion by Member Year', fontsize=18)\n",
    "plt.xlabel('Member Year', fontsize=16)\n",
    "plt.ylabel('Avg. Conversion', fontsize=16)\n",
    "# plt.savefig('../images/conversion_by_year.png')\n",
    ";"
   ]
  },
  {
   "cell_type": "markdown",
   "metadata": {},
   "source": [
    "Though relationship between the year the member created their account and the avg conversion is a bit inconsistent. Newest customers clearly display a loweest conversion. But the relationship for the remaining years is not consistent.\n",
    "\n",
    "Let's quickly also check the size of each cohort to see the sample size in each group"
   ]
  },
  {
   "cell_type": "code",
   "execution_count": 14,
   "metadata": {},
   "outputs": [
    {
     "data": {
      "text/plain": [
       "member_year\n",
       "2013      851\n",
       "2014     2060\n",
       "2015     5432\n",
       "2016    10443\n",
       "2017    19245\n",
       "2018    12606\n",
       "Name: conversion_flag, dtype: int64"
      ]
     },
     "execution_count": 14,
     "metadata": {},
     "output_type": "execute_result"
    }
   ],
   "source": [
    "df_conversion_v2.groupby('member_year')['conversion_flag'].size()"
   ]
  },
  {
   "cell_type": "code",
   "execution_count": 15,
   "metadata": {},
   "outputs": [
    {
     "data": {
      "text/plain": [
       "''"
      ]
     },
     "execution_count": 15,
     "metadata": {},
     "output_type": "execute_result"
    },
    {
     "data": {
      "image/png": "[encoded data removed]",
      "text/plain": [
       "<Figure size 432x288 with 1 Axes>"
      ]
     },
     "metadata": {
      "needs_background": "light"
     },
     "output_type": "display_data"
    }
   ],
   "source": [
    "conversion_by_reward = df_conversion_v2.groupby('reward')['conversion_flag'].mean()\n",
    "plt.bar(conversion_by_reward.index, conversion_by_reward.values)\n",
    "plt.title('Avg. Conversion by Reward', fontsize=18)\n",
    "plt.xlabel('Reward', fontsize=16)\n",
    "plt.ylabel('Avg. Conversion', fontsize=16)\n",
    "# plt.savefig('../images/conversion_by_reward.png')\n",
    ";"
   ]
  },
  {
   "cell_type": "code",
   "execution_count": 16,
   "metadata": {},
   "outputs": [
    {
     "data": {
      "text/plain": [
       "offer_type  reward\n",
       "bogo        5.0       0.49\n",
       "            10.0      0.45\n",
       "discount    2.0       0.54\n",
       "            3.0       0.68\n",
       "            5.0       0.23\n",
       "Name: conversion_flag, dtype: float64"
      ]
     },
     "execution_count": 16,
     "metadata": {},
     "output_type": "execute_result"
    }
   ],
   "source": [
    "df_conversion_v2.groupby(['offer_type','reward'])['conversion_flag'].mean().round(2)"
   ]
  },
  {
   "cell_type": "markdown",
   "metadata": {},
   "source": [
    "When we dive a little deeper, we the discount with the 3 dollar reward has the highest conversion rate at 68%, followed by the discount with the 2 dollar reward at 54%. INterestingly, the discount with the 5 dollar reward has the lowest conversion rate at 23%. This may be due to increased perceived difficulty of completing it"
   ]
  },
  {
   "cell_type": "code",
   "execution_count": 17,
   "metadata": {},
   "outputs": [
    {
     "data": {
      "text/plain": [
       "offer_type  reward  difficulty\n",
       "bogo        5.0     5.0           0.49\n",
       "            10.0    10.0          0.45\n",
       "discount    2.0     10.0          0.54\n",
       "            3.0     7.0           0.68\n",
       "            5.0     20.0          0.23\n",
       "Name: conversion_flag, dtype: float64"
      ]
     },
     "execution_count": 17,
     "metadata": {},
     "output_type": "execute_result"
    }
   ],
   "source": [
    "df_conversion_v2.groupby(['offer_type','reward', 'difficulty'])['conversion_flag'].mean().round(2)"
   ]
  },
  {
   "cell_type": "markdown",
   "metadata": {},
   "source": [
    "We can confirm that the difficulty of the discount offer with a 5 dollar reward indeed has the highest difficulty measure"
   ]
  },
  {
   "cell_type": "code",
   "execution_count": 18,
   "metadata": {},
   "outputs": [
    {
     "data": {
      "text/plain": [
       "offer_type  reward  difficulty  duration\n",
       "bogo        5.0     5.0         5.0         0.58\n",
       "                                7.0         0.39\n",
       "            10.0    10.0        5.0         0.45\n",
       "                                7.0         0.45\n",
       "discount    2.0     10.0        7.0         0.38\n",
       "                                10.0        0.70\n",
       "            3.0     7.0         7.0         0.68\n",
       "            5.0     20.0        10.0        0.23\n",
       "Name: conversion_flag, dtype: float64"
      ]
     },
     "execution_count": 18,
     "metadata": {},
     "output_type": "execute_result"
    }
   ],
   "source": [
    "df_conversion_v2.groupby(['offer_type','reward', 'difficulty', 'duration'])['conversion_flag'].mean().round(2)"
   ]
  },
  {
   "cell_type": "markdown",
   "metadata": {},
   "source": [
    "We get mixed relationships when layer in offer duration. For example, the discount offer with the 2 dollar reward and 10 day duration has significantly higher conversion vs the same offer with the 7 day duration (70% vs 38%).\n",
    "\n",
    "The same trend doesn't hold true for the BOGO offers however. The 10 dollar BOGO offer has the same avg. conversion regardless of duration. In fact, the 5 dollar bogo offer with the shorter 5 day duration has 58% avg. conversion vs 39% for the offer with 7 day duration"
   ]
  },
  {
   "cell_type": "markdown",
   "metadata": {},
   "source": [
    "### Analyze Conversion by Channel"
   ]
  },
  {
   "cell_type": "code",
   "execution_count": 19,
   "metadata": {},
   "outputs": [
    {
     "data": {
      "text/plain": [
       "email\n",
       "1.0    0.483046\n",
       "Name: conversion_flag, dtype: float64"
      ]
     },
     "execution_count": 19,
     "metadata": {},
     "output_type": "execute_result"
    }
   ],
   "source": [
    "df_conversion_v2.groupby('email')['conversion_flag'].mean()"
   ]
  },
  {
   "cell_type": "markdown",
   "metadata": {},
   "source": [
    "As all offers were at least sent via email, this feature can be removed from the dataset"
   ]
  },
  {
   "cell_type": "code",
   "execution_count": 20,
   "metadata": {},
   "outputs": [
    {
     "data": {
      "text/plain": [
       "web\n",
       "0.0    0.446031\n",
       "1.0    0.488376\n",
       "Name: conversion_flag, dtype: float64"
      ]
     },
     "execution_count": 20,
     "metadata": {},
     "output_type": "execute_result"
    }
   ],
   "source": [
    "df_conversion_v2.groupby('web')['conversion_flag'].mean()"
   ]
  },
  {
   "cell_type": "code",
   "execution_count": 21,
   "metadata": {},
   "outputs": [
    {
     "data": {
      "text/plain": [
       "mobile\n",
       "0.0    0.230938\n",
       "1.0    0.519350\n",
       "Name: conversion_flag, dtype: float64"
      ]
     },
     "execution_count": 21,
     "metadata": {},
     "output_type": "execute_result"
    }
   ],
   "source": [
    "df_conversion_v2.groupby('mobile')['conversion_flag'].mean()"
   ]
  },
  {
   "cell_type": "code",
   "execution_count": 22,
   "metadata": {},
   "outputs": [
    {
     "data": {
      "text/plain": [
       "social\n",
       "0.0    0.336121\n",
       "1.0    0.571388\n",
       "Name: conversion_flag, dtype: float64"
      ]
     },
     "execution_count": 22,
     "metadata": {},
     "output_type": "execute_result"
    }
   ],
   "source": [
    "df_conversion_v2.groupby('social')['conversion_flag'].mean()"
   ]
  },
  {
   "cell_type": "code",
   "execution_count": 23,
   "metadata": {},
   "outputs": [
    {
     "data": {
      "text/plain": [
       "''"
      ]
     },
     "execution_count": 23,
     "metadata": {},
     "output_type": "execute_result"
    },
    {
     "data": {
      "image/png": "[encoded data removed]",
      "text/plain": [
       "<Figure size 432x288 with 1 Axes>"
      ]
     },
     "metadata": {
      "needs_background": "light"
     },
     "output_type": "display_data"
    }
   ],
   "source": [
    "conversion_by_channels = df_conversion_v2.groupby('total_channels')['conversion_flag'].mean()\n",
    "plt.bar(conversion_by_channels.index, conversion_by_channels.values)\n",
    "plt.title('Avg. Conversion by Total Channels', fontsize=18)\n",
    "plt.xlabel('Total Channels', fontsize=16)\n",
    "plt.ylabel('Avg. Conversion', fontsize=16)\n",
    "# plt.savefig('../images/conversion_by_channels.png')\n",
    ";"
   ]
  },
  {
   "cell_type": "markdown",
   "metadata": {},
   "source": [
    "There appears is a positive relationship between the number of channels used to distribute the offer and avg. conversion. To simplify the model features, we'll likely keep the total number of channels as opposed to the individual channel flags."
   ]
  },
  {
   "cell_type": "markdown",
   "metadata": {},
   "source": [
    "### Analyze Relationship of Continuous Features and Conversion"
   ]
  },
  {
   "cell_type": "code",
   "execution_count": 24,
   "metadata": {},
   "outputs": [
    {
     "data": {
      "text/plain": [
       "''"
      ]
     },
     "execution_count": 24,
     "metadata": {},
     "output_type": "execute_result"
    },
    {
     "data": {
      "image/png": "[encoded data removed]",
      "text/plain": [
       "<Figure size 432x288 with 1 Axes>"
      ]
     },
     "metadata": {
      "needs_background": "light"
     },
     "output_type": "display_data"
    }
   ],
   "source": [
    "sns.boxplot(x='conversion_flag', y='income', data=df_conversion_v2)\n",
    "plt.title('Income Distribution by Conversion Flag', fontsize=18)\n",
    "# plt.savefig('../images/income_distribution_by_conversion.png')\n",
    ";"
   ]
  },
  {
   "cell_type": "markdown",
   "metadata": {},
   "source": [
    "We do that in instances where a conversion occurred, the income distribution is higher"
   ]
  },
  {
   "cell_type": "code",
   "execution_count": 25,
   "metadata": {},
   "outputs": [
    {
     "data": {
      "text/plain": [
       "''"
      ]
     },
     "execution_count": 25,
     "metadata": {},
     "output_type": "execute_result"
    },
    {
     "data": {
      "image/png": "[encoded data removed]",
      "text/plain": [
       "<Figure size 432x288 with 1 Axes>"
      ]
     },
     "metadata": {
      "needs_background": "light"
     },
     "output_type": "display_data"
    }
   ],
   "source": [
    "sns.boxplot(x='conversion_flag', y='income', data=df_conversion_v2, hue='gender');\n",
    "plt.title('Income Distribution by Conversion Flag & Gender', fontsize=14)\n",
    "# plt.savefig('../images/income_gender_by_conversion.png')\n",
    ";"
   ]
  },
  {
   "cell_type": "code",
   "execution_count": 26,
   "metadata": {},
   "outputs": [
    {
     "data": {
      "text/html": [
       "<div>\n",
       "<style scoped>\n",
       "    .dataframe tbody tr th:only-of-type {\n",
       "        vertical-align: middle;\n",
       "    }\n",
       "\n",
       "    .dataframe tbody tr th {\n",
       "        vertical-align: top;\n",
       "    }\n",
       "\n",
       "    .dataframe thead th {\n",
       "        text-align: right;\n",
       "    }\n",
       "</style>\n",
       "<table border=\"1\" class=\"dataframe\">\n",
       "  <thead>\n",
       "    <tr style=\"text-align: right;\">\n",
       "      <th></th>\n",
       "      <th>count</th>\n",
       "      <th>mean</th>\n",
       "      <th>std</th>\n",
       "      <th>min</th>\n",
       "      <th>25%</th>\n",
       "      <th>50%</th>\n",
       "      <th>75%</th>\n",
       "      <th>max</th>\n",
       "    </tr>\n",
       "    <tr>\n",
       "      <th>conversion_flag</th>\n",
       "      <th></th>\n",
       "      <th></th>\n",
       "      <th></th>\n",
       "      <th></th>\n",
       "      <th></th>\n",
       "      <th></th>\n",
       "      <th></th>\n",
       "      <th></th>\n",
       "    </tr>\n",
       "  </thead>\n",
       "  <tbody>\n",
       "    <tr>\n",
       "      <th>0</th>\n",
       "      <td>20682.0</td>\n",
       "      <td>61218.015666</td>\n",
       "      <td>21407.438385</td>\n",
       "      <td>30000.0</td>\n",
       "      <td>44000.0</td>\n",
       "      <td>58000.0</td>\n",
       "      <td>74000.0</td>\n",
       "      <td>120000.0</td>\n",
       "    </tr>\n",
       "    <tr>\n",
       "      <th>1</th>\n",
       "      <td>23499.0</td>\n",
       "      <td>69043.235882</td>\n",
       "      <td>21184.190826</td>\n",
       "      <td>30000.0</td>\n",
       "      <td>53000.0</td>\n",
       "      <td>68000.0</td>\n",
       "      <td>84000.0</td>\n",
       "      <td>120000.0</td>\n",
       "    </tr>\n",
       "  </tbody>\n",
       "</table>\n",
       "</div>"
      ],
      "text/plain": [
       "                   count          mean           std      min      25%  \\\n",
       "conversion_flag                                                          \n",
       "0                20682.0  61218.015666  21407.438385  30000.0  44000.0   \n",
       "1                23499.0  69043.235882  21184.190826  30000.0  53000.0   \n",
       "\n",
       "                     50%      75%       max  \n",
       "conversion_flag                              \n",
       "0                58000.0  74000.0  120000.0  \n",
       "1                68000.0  84000.0  120000.0  "
      ]
     },
     "execution_count": 26,
     "metadata": {},
     "output_type": "execute_result"
    }
   ],
   "source": [
    "df_conversion_v2.groupby('conversion_flag')['income'].describe()"
   ]
  },
  {
   "cell_type": "markdown",
   "metadata": {},
   "source": [
    "The median income in conversion events is 68K vs 60K for non conversion events"
   ]
  },
  {
   "cell_type": "code",
   "execution_count": 27,
   "metadata": {},
   "outputs": [
    {
     "data": {
      "text/plain": [
       "''"
      ]
     },
     "execution_count": 27,
     "metadata": {},
     "output_type": "execute_result"
    },
    {
     "data": {
      "image/png": "[encoded data removed]",
      "text/plain": [
       "<Figure size 432x288 with 1 Axes>"
      ]
     },
     "metadata": {
      "needs_background": "light"
     },
     "output_type": "display_data"
    }
   ],
   "source": [
    "df_conversion_v2_noage = df_conversion_v2[df_conversion_v2['age'] != 118]\n",
    "sns.boxplot(x='conversion_flag', y='age', data=df_conversion_v2_noage)\n",
    "plt.title('Age Distribution by Conversion Flag', fontsize=18)\n",
    "# plt.savefig('../images/age_distribution_by_conversion.png')\n",
    ";"
   ]
  },
  {
   "cell_type": "markdown",
   "metadata": {},
   "source": [
    "The age distribution is very similar between converted and non converted offers"
   ]
  },
  {
   "cell_type": "code",
   "execution_count": 28,
   "metadata": {},
   "outputs": [
    {
     "data": {
      "text/plain": [
       "''"
      ]
     },
     "execution_count": 28,
     "metadata": {},
     "output_type": "execute_result"
    },
    {
     "data": {
      "image/png": "[encoded data removed]",
      "text/plain": [
       "<Figure size 432x288 with 1 Axes>"
      ]
     },
     "metadata": {
      "needs_background": "light"
     },
     "output_type": "display_data"
    }
   ],
   "source": [
    "sns.boxplot(x='conversion_flag', y='time_received', data=df_conversion_v2)\n",
    "plt.title('Time Distribution by Conversion Flag', fontsize=18)\n",
    "# plt.savefig('../images/time_distribution_by_conversion.png')\n",
    ";"
   ]
  },
  {
   "cell_type": "markdown",
   "metadata": {},
   "source": [
    "### Assess Correlation of Numeric Features"
   ]
  },
  {
   "cell_type": "markdown",
   "metadata": {},
   "source": [
    "Several types of models are sensitive to highly correlated features. We'll check to see if our numeric features have moderate-strong correlation with one another"
   ]
  },
  {
   "cell_type": "code",
   "execution_count": 29,
   "metadata": {},
   "outputs": [
    {
     "data": {
      "text/html": [
       "<div>\n",
       "<style scoped>\n",
       "    .dataframe tbody tr th:only-of-type {\n",
       "        vertical-align: middle;\n",
       "    }\n",
       "\n",
       "    .dataframe tbody tr th {\n",
       "        vertical-align: top;\n",
       "    }\n",
       "\n",
       "    .dataframe thead th {\n",
       "        text-align: right;\n",
       "    }\n",
       "</style>\n",
       "<table border=\"1\" class=\"dataframe\">\n",
       "  <thead>\n",
       "    <tr style=\"text-align: right;\">\n",
       "      <th></th>\n",
       "      <th>reward</th>\n",
       "      <th>duration</th>\n",
       "      <th>difficulty</th>\n",
       "      <th>total_channels</th>\n",
       "      <th>age</th>\n",
       "      <th>income</th>\n",
       "      <th>tenure</th>\n",
       "    </tr>\n",
       "  </thead>\n",
       "  <tbody>\n",
       "    <tr>\n",
       "      <th>reward</th>\n",
       "      <td>1.00</td>\n",
       "      <td>-0.46</td>\n",
       "      <td>0.06</td>\n",
       "      <td>-0.05</td>\n",
       "      <td>0.00</td>\n",
       "      <td>0.00</td>\n",
       "      <td>0.00</td>\n",
       "    </tr>\n",
       "    <tr>\n",
       "      <th>duration</th>\n",
       "      <td>-0.46</td>\n",
       "      <td>1.00</td>\n",
       "      <td>0.64</td>\n",
       "      <td>-0.48</td>\n",
       "      <td>-0.00</td>\n",
       "      <td>-0.00</td>\n",
       "      <td>0.00</td>\n",
       "    </tr>\n",
       "    <tr>\n",
       "      <th>difficulty</th>\n",
       "      <td>0.06</td>\n",
       "      <td>0.64</td>\n",
       "      <td>1.00</td>\n",
       "      <td>-0.68</td>\n",
       "      <td>-0.00</td>\n",
       "      <td>-0.00</td>\n",
       "      <td>0.00</td>\n",
       "    </tr>\n",
       "    <tr>\n",
       "      <th>total_channels</th>\n",
       "      <td>-0.05</td>\n",
       "      <td>-0.48</td>\n",
       "      <td>-0.68</td>\n",
       "      <td>1.00</td>\n",
       "      <td>0.00</td>\n",
       "      <td>0.00</td>\n",
       "      <td>-0.00</td>\n",
       "    </tr>\n",
       "    <tr>\n",
       "      <th>age</th>\n",
       "      <td>0.00</td>\n",
       "      <td>-0.00</td>\n",
       "      <td>-0.00</td>\n",
       "      <td>0.00</td>\n",
       "      <td>1.00</td>\n",
       "      <td>0.31</td>\n",
       "      <td>-0.02</td>\n",
       "    </tr>\n",
       "    <tr>\n",
       "      <th>income</th>\n",
       "      <td>0.00</td>\n",
       "      <td>-0.00</td>\n",
       "      <td>-0.00</td>\n",
       "      <td>0.00</td>\n",
       "      <td>0.31</td>\n",
       "      <td>1.00</td>\n",
       "      <td>0.03</td>\n",
       "    </tr>\n",
       "    <tr>\n",
       "      <th>tenure</th>\n",
       "      <td>0.00</td>\n",
       "      <td>0.00</td>\n",
       "      <td>0.00</td>\n",
       "      <td>-0.00</td>\n",
       "      <td>-0.02</td>\n",
       "      <td>0.03</td>\n",
       "      <td>1.00</td>\n",
       "    </tr>\n",
       "  </tbody>\n",
       "</table>\n",
       "</div>"
      ],
      "text/plain": [
       "                reward  duration  difficulty  total_channels   age  income  \\\n",
       "reward            1.00     -0.46        0.06           -0.05  0.00    0.00   \n",
       "duration         -0.46      1.00        0.64           -0.48 -0.00   -0.00   \n",
       "difficulty        0.06      0.64        1.00           -0.68 -0.00   -0.00   \n",
       "total_channels   -0.05     -0.48       -0.68            1.00  0.00    0.00   \n",
       "age               0.00     -0.00       -0.00            0.00  1.00    0.31   \n",
       "income            0.00     -0.00       -0.00            0.00  0.31    1.00   \n",
       "tenure            0.00      0.00        0.00           -0.00 -0.02    0.03   \n",
       "\n",
       "                tenure  \n",
       "reward            0.00  \n",
       "duration          0.00  \n",
       "difficulty        0.00  \n",
       "total_channels   -0.00  \n",
       "age              -0.02  \n",
       "income            0.03  \n",
       "tenure            1.00  "
      ]
     },
     "execution_count": 29,
     "metadata": {},
     "output_type": "execute_result"
    }
   ],
   "source": [
    "correlation_features = ['reward', 'duration', 'difficulty', 'total_channels', 'age', 'income', 'tenure']\n",
    "df_conversion_v2[correlation_features].corr().round(2)"
   ]
  },
  {
   "cell_type": "code",
   "execution_count": 30,
   "metadata": {},
   "outputs": [
    {
     "data": {
      "text/plain": [
       "''"
      ]
     },
     "execution_count": 30,
     "metadata": {},
     "output_type": "execute_result"
    },
    {
     "data": {
      "image/png": "[encoded data removed]",
      "text/plain": [
       "<Figure size 504x360 with 2 Axes>"
      ]
     },
     "metadata": {},
     "output_type": "display_data"
    }
   ],
   "source": [
    "corr = df_conversion_v2[correlation_features].corr().round(2)\n",
    "mask = np.zeros_like(corr)\n",
    "mask[np.triu_indices_from(mask)] = True\n",
    "with sns.axes_style(\"white\"):\n",
    "    f, ax = plt.subplots(figsize=(7, 5))\n",
    "    ax = sns.heatmap(corr, mask=mask, vmax=.3, square=True, annot=True)\n",
    "plt.title('Correlation Heatmap', fontsize=18)\n",
    "# plt.savefig('../images/correlation_heatmap.png')\n",
    ";"
   ]
  },
  {
   "cell_type": "code",
   "execution_count": 31,
   "metadata": {},
   "outputs": [],
   "source": [
    "# save table output\n",
    "df_conversion_v2.to_pickle('../input/df_conversion_v2.pkl')"
   ]
  }
 ],
 "metadata": {
  "kernelspec": {
   "display_name": "Python 3",
   "language": "python",
   "name": "python3"
  },
  "language_info": {
   "codemirror_mode": {
    "name": "ipython",
    "version": 3
   },
   "file_extension": ".py",
   "mimetype": "text/x-python",
   "name": "python",
   "nbconvert_exporter": "python",
   "pygments_lexer": "ipython3",
   "version": "3.7.3"
  }
 },
 "nbformat": 4,
 "nbformat_minor": 4
}
