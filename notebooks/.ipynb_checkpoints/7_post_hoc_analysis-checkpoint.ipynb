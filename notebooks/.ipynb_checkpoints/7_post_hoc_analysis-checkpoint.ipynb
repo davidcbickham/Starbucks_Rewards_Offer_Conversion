{
 "cells": [
  {
   "cell_type": "markdown",
   "metadata": {},
   "source": [
    "# Post Hoc Analysis"
   ]
  },
  {
   "cell_type": "markdown",
   "metadata": {},
   "source": [
    "In this notebook we'll take a deeper look into how the model performs across different subsets of the data. Specifically, we'll examine the classification accuracy based on the demographics of the users and metadata surrounding the offer.\n",
    "\n",
    "The XGboost model had the highest f1 score of 0.816, so we'll be referencing the predicted probabilites from this model"
   ]
  },
  {
   "cell_type": "markdown",
   "metadata": {},
   "source": [
    "## Importing Libraries"
   ]
  },
  {
   "cell_type": "code",
   "execution_count": 1,
   "metadata": {},
   "outputs": [],
   "source": [
    "import os\n",
    "import pandas as pd\n",
    "import numpy as np\n",
    "import math\n",
    "import json\n",
    "import seaborn as sns\n",
    "import matplotlib.pyplot as plt\n",
    "import sagemaker\n",
    "from sagemaker import get_execution_role"
   ]
  },
  {
   "cell_type": "code",
   "execution_count": 2,
   "metadata": {},
   "outputs": [],
   "source": [
    "# This is an object that represents the SageMaker session that we are currently operating in. This\n",
    "# object contains some useful information that we will need to access later such as our region.\n",
    "session = sagemaker.Session()\n",
    "\n",
    "# This is an object that represents the IAM role that we are currently assigned. When we construct\n",
    "# and launch the training job later we will need to tell it what IAM role it should have. Since our\n",
    "# use case is relatively simple we will simply assign the training job the role we currently have.\n",
    "role = get_execution_role()"
   ]
  },
  {
   "cell_type": "markdown",
   "metadata": {},
   "source": [
    "## Specify Input Data Location"
   ]
  },
  {
   "cell_type": "code",
   "execution_count": 3,
   "metadata": {},
   "outputs": [],
   "source": [
    "# This is our local data directory. We need to make sure that it exists.\n",
    "data_dir = '../input'\n",
    "if not os.path.exists(data_dir):\n",
    "    os.makedirs(data_dir)\n",
    "    \n",
    "# s3 bucket and prefix (folder in s3)\n",
    "bucket = session.default_bucket()\n",
    "prefix = 'mle-capstone'\n",
    "\n",
    "# location of datasets in s3\n",
    "# train_location = f's3://{bucket}/{prefix}/train.csv'\n",
    "# val_location = f's3://{bucket}/{prefix}/validation.csv'\n",
    "# test_location = f's3://{bucket}/{prefix}/test.csv'\n",
    "Y_test_location = f's3://{bucket}/{prefix}/Y_test.csv'\n",
    "test_unprocessed_location = f's3://{bucket}/{prefix}/test_unprocessed.csv'\n",
    "y_pred_prob_location = f's3://{bucket}/{prefix}/y_pred_prob_model_3.csv'"
   ]
  },
  {
   "cell_type": "markdown",
   "metadata": {},
   "source": [
    "## Read Data from S3"
   ]
  },
  {
   "cell_type": "markdown",
   "metadata": {},
   "source": [
    "Next we'll read the data from s3. We'll load the following files:\n",
    "1. X_test - the original test data for training (before preprocessing like scaling and encoding)\n",
    "2. Y_test - the actual response (conversion_flag)\n",
    "3. Y_pred_prob - the predicted probabilities generated from the model"
   ]
  },
  {
   "cell_type": "code",
   "execution_count": 4,
   "metadata": {},
   "outputs": [],
   "source": [
    "# read the test data from s3\n",
    "X_test = pd.read_csv(test_unprocessed_location , header=0)\n",
    "Y_test = pd.read_csv(Y_test_location, header=None)\n",
    "Y_pred_prob = pd.read_csv(y_pred_prob_location, header=0)"
   ]
  },
  {
   "cell_type": "code",
   "execution_count": 5,
   "metadata": {},
   "outputs": [
    {
     "data": {
      "text/html": [
       "<div>\n",
       "<style scoped>\n",
       "    .dataframe tbody tr th:only-of-type {\n",
       "        vertical-align: middle;\n",
       "    }\n",
       "\n",
       "    .dataframe tbody tr th {\n",
       "        vertical-align: top;\n",
       "    }\n",
       "\n",
       "    .dataframe thead th {\n",
       "        text-align: right;\n",
       "    }\n",
       "</style>\n",
       "<table border=\"1\" class=\"dataframe\">\n",
       "  <thead>\n",
       "    <tr style=\"text-align: right;\">\n",
       "      <th></th>\n",
       "      <th>reward</th>\n",
       "      <th>difficulty</th>\n",
       "      <th>duration</th>\n",
       "      <th>offer_type</th>\n",
       "      <th>total_channels</th>\n",
       "      <th>gender</th>\n",
       "      <th>age</th>\n",
       "      <th>income</th>\n",
       "      <th>tenure</th>\n",
       "      <th>offer_viewed_flag</th>\n",
       "    </tr>\n",
       "  </thead>\n",
       "  <tbody>\n",
       "    <tr>\n",
       "      <th>0</th>\n",
       "      <td>5.0</td>\n",
       "      <td>5.0</td>\n",
       "      <td>7.0</td>\n",
       "      <td>bogo</td>\n",
       "      <td>3.0</td>\n",
       "      <td>F</td>\n",
       "      <td>58.0</td>\n",
       "      <td>88000.0</td>\n",
       "      <td>1</td>\n",
       "      <td>1</td>\n",
       "    </tr>\n",
       "    <tr>\n",
       "      <th>1</th>\n",
       "      <td>5.0</td>\n",
       "      <td>20.0</td>\n",
       "      <td>10.0</td>\n",
       "      <td>discount</td>\n",
       "      <td>2.0</td>\n",
       "      <td>Unknown</td>\n",
       "      <td>NaN</td>\n",
       "      <td>NaN</td>\n",
       "      <td>1</td>\n",
       "      <td>0</td>\n",
       "    </tr>\n",
       "    <tr>\n",
       "      <th>2</th>\n",
       "      <td>5.0</td>\n",
       "      <td>5.0</td>\n",
       "      <td>7.0</td>\n",
       "      <td>bogo</td>\n",
       "      <td>3.0</td>\n",
       "      <td>M</td>\n",
       "      <td>78.0</td>\n",
       "      <td>77000.0</td>\n",
       "      <td>2</td>\n",
       "      <td>1</td>\n",
       "    </tr>\n",
       "    <tr>\n",
       "      <th>3</th>\n",
       "      <td>2.0</td>\n",
       "      <td>10.0</td>\n",
       "      <td>7.0</td>\n",
       "      <td>discount</td>\n",
       "      <td>3.0</td>\n",
       "      <td>F</td>\n",
       "      <td>46.0</td>\n",
       "      <td>75000.0</td>\n",
       "      <td>3</td>\n",
       "      <td>1</td>\n",
       "    </tr>\n",
       "    <tr>\n",
       "      <th>4</th>\n",
       "      <td>5.0</td>\n",
       "      <td>20.0</td>\n",
       "      <td>10.0</td>\n",
       "      <td>discount</td>\n",
       "      <td>2.0</td>\n",
       "      <td>M</td>\n",
       "      <td>53.0</td>\n",
       "      <td>71000.0</td>\n",
       "      <td>0</td>\n",
       "      <td>0</td>\n",
       "    </tr>\n",
       "  </tbody>\n",
       "</table>\n",
       "</div>"
      ],
      "text/plain": [
       "   reward  difficulty  duration offer_type  total_channels   gender   age  \\\n",
       "0     5.0         5.0       7.0       bogo             3.0        F  58.0   \n",
       "1     5.0        20.0      10.0   discount             2.0  Unknown   NaN   \n",
       "2     5.0         5.0       7.0       bogo             3.0        M  78.0   \n",
       "3     2.0        10.0       7.0   discount             3.0        F  46.0   \n",
       "4     5.0        20.0      10.0   discount             2.0        M  53.0   \n",
       "\n",
       "    income  tenure  offer_viewed_flag  \n",
       "0  88000.0       1                  1  \n",
       "1      NaN       1                  0  \n",
       "2  77000.0       2                  1  \n",
       "3  75000.0       3                  1  \n",
       "4  71000.0       0                  0  "
      ]
     },
     "execution_count": 5,
     "metadata": {},
     "output_type": "execute_result"
    }
   ],
   "source": [
    "X_test.head()"
   ]
  },
  {
   "cell_type": "code",
   "execution_count": 6,
   "metadata": {},
   "outputs": [
    {
     "data": {
      "text/html": [
       "<div>\n",
       "<style scoped>\n",
       "    .dataframe tbody tr th:only-of-type {\n",
       "        vertical-align: middle;\n",
       "    }\n",
       "\n",
       "    .dataframe tbody tr th {\n",
       "        vertical-align: top;\n",
       "    }\n",
       "\n",
       "    .dataframe thead th {\n",
       "        text-align: right;\n",
       "    }\n",
       "</style>\n",
       "<table border=\"1\" class=\"dataframe\">\n",
       "  <thead>\n",
       "    <tr style=\"text-align: right;\">\n",
       "      <th></th>\n",
       "      <th>0</th>\n",
       "    </tr>\n",
       "  </thead>\n",
       "  <tbody>\n",
       "    <tr>\n",
       "      <th>0</th>\n",
       "      <td>0</td>\n",
       "    </tr>\n",
       "    <tr>\n",
       "      <th>1</th>\n",
       "      <td>0</td>\n",
       "    </tr>\n",
       "    <tr>\n",
       "      <th>2</th>\n",
       "      <td>1</td>\n",
       "    </tr>\n",
       "    <tr>\n",
       "      <th>3</th>\n",
       "      <td>1</td>\n",
       "    </tr>\n",
       "    <tr>\n",
       "      <th>4</th>\n",
       "      <td>0</td>\n",
       "    </tr>\n",
       "  </tbody>\n",
       "</table>\n",
       "</div>"
      ],
      "text/plain": [
       "   0\n",
       "0  0\n",
       "1  0\n",
       "2  1\n",
       "3  1\n",
       "4  0"
      ]
     },
     "execution_count": 6,
     "metadata": {},
     "output_type": "execute_result"
    }
   ],
   "source": [
    "Y_test.head()"
   ]
  },
  {
   "cell_type": "code",
   "execution_count": 7,
   "metadata": {},
   "outputs": [
    {
     "data": {
      "text/html": [
       "<div>\n",
       "<style scoped>\n",
       "    .dataframe tbody tr th:only-of-type {\n",
       "        vertical-align: middle;\n",
       "    }\n",
       "\n",
       "    .dataframe tbody tr th {\n",
       "        vertical-align: top;\n",
       "    }\n",
       "\n",
       "    .dataframe thead th {\n",
       "        text-align: right;\n",
       "    }\n",
       "</style>\n",
       "<table border=\"1\" class=\"dataframe\">\n",
       "  <thead>\n",
       "    <tr style=\"text-align: right;\">\n",
       "      <th></th>\n",
       "      <th>y_pred_prob</th>\n",
       "    </tr>\n",
       "  </thead>\n",
       "  <tbody>\n",
       "    <tr>\n",
       "      <th>0</th>\n",
       "      <td>0.830645</td>\n",
       "    </tr>\n",
       "    <tr>\n",
       "      <th>1</th>\n",
       "      <td>0.001296</td>\n",
       "    </tr>\n",
       "    <tr>\n",
       "      <th>2</th>\n",
       "      <td>0.911853</td>\n",
       "    </tr>\n",
       "    <tr>\n",
       "      <th>3</th>\n",
       "      <td>0.942162</td>\n",
       "    </tr>\n",
       "    <tr>\n",
       "      <th>4</th>\n",
       "      <td>0.001310</td>\n",
       "    </tr>\n",
       "  </tbody>\n",
       "</table>\n",
       "</div>"
      ],
      "text/plain": [
       "   y_pred_prob\n",
       "0     0.830645\n",
       "1     0.001296\n",
       "2     0.911853\n",
       "3     0.942162\n",
       "4     0.001310"
      ]
     },
     "execution_count": 7,
     "metadata": {},
     "output_type": "execute_result"
    }
   ],
   "source": [
    "Y_pred_prob.head()"
   ]
  },
  {
   "cell_type": "code",
   "execution_count": 8,
   "metadata": {},
   "outputs": [
    {
     "name": "stdout",
     "output_type": "stream",
     "text": [
      "(12660, 10)\n",
      "(12660, 1)\n",
      "(12660, 1)\n"
     ]
    }
   ],
   "source": [
    "# confirming data have the same number of rows\n",
    "print(X_test.shape)\n",
    "print(Y_test.shape)\n",
    "print(Y_pred_prob.shape)"
   ]
  },
  {
   "cell_type": "markdown",
   "metadata": {},
   "source": [
    "## Combining the Data"
   ]
  },
  {
   "cell_type": "code",
   "execution_count": 9,
   "metadata": {},
   "outputs": [
    {
     "data": {
      "text/html": [
       "<div>\n",
       "<style scoped>\n",
       "    .dataframe tbody tr th:only-of-type {\n",
       "        vertical-align: middle;\n",
       "    }\n",
       "\n",
       "    .dataframe tbody tr th {\n",
       "        vertical-align: top;\n",
       "    }\n",
       "\n",
       "    .dataframe thead th {\n",
       "        text-align: right;\n",
       "    }\n",
       "</style>\n",
       "<table border=\"1\" class=\"dataframe\">\n",
       "  <thead>\n",
       "    <tr style=\"text-align: right;\">\n",
       "      <th></th>\n",
       "      <th>reward</th>\n",
       "      <th>difficulty</th>\n",
       "      <th>duration</th>\n",
       "      <th>offer_type</th>\n",
       "      <th>total_channels</th>\n",
       "      <th>gender</th>\n",
       "      <th>age</th>\n",
       "      <th>income</th>\n",
       "      <th>tenure</th>\n",
       "      <th>offer_viewed_flag</th>\n",
       "      <th>conversion_flag</th>\n",
       "      <th>pred_prob</th>\n",
       "    </tr>\n",
       "  </thead>\n",
       "  <tbody>\n",
       "    <tr>\n",
       "      <th>0</th>\n",
       "      <td>5.0</td>\n",
       "      <td>5.0</td>\n",
       "      <td>7.0</td>\n",
       "      <td>bogo</td>\n",
       "      <td>3.0</td>\n",
       "      <td>F</td>\n",
       "      <td>58.0</td>\n",
       "      <td>88000.0</td>\n",
       "      <td>1</td>\n",
       "      <td>1</td>\n",
       "      <td>0</td>\n",
       "      <td>0.830645</td>\n",
       "    </tr>\n",
       "    <tr>\n",
       "      <th>1</th>\n",
       "      <td>5.0</td>\n",
       "      <td>20.0</td>\n",
       "      <td>10.0</td>\n",
       "      <td>discount</td>\n",
       "      <td>2.0</td>\n",
       "      <td>Unknown</td>\n",
       "      <td>NaN</td>\n",
       "      <td>NaN</td>\n",
       "      <td>1</td>\n",
       "      <td>0</td>\n",
       "      <td>0</td>\n",
       "      <td>0.001296</td>\n",
       "    </tr>\n",
       "    <tr>\n",
       "      <th>2</th>\n",
       "      <td>5.0</td>\n",
       "      <td>5.0</td>\n",
       "      <td>7.0</td>\n",
       "      <td>bogo</td>\n",
       "      <td>3.0</td>\n",
       "      <td>M</td>\n",
       "      <td>78.0</td>\n",
       "      <td>77000.0</td>\n",
       "      <td>2</td>\n",
       "      <td>1</td>\n",
       "      <td>1</td>\n",
       "      <td>0.911853</td>\n",
       "    </tr>\n",
       "    <tr>\n",
       "      <th>3</th>\n",
       "      <td>2.0</td>\n",
       "      <td>10.0</td>\n",
       "      <td>7.0</td>\n",
       "      <td>discount</td>\n",
       "      <td>3.0</td>\n",
       "      <td>F</td>\n",
       "      <td>46.0</td>\n",
       "      <td>75000.0</td>\n",
       "      <td>3</td>\n",
       "      <td>1</td>\n",
       "      <td>1</td>\n",
       "      <td>0.942162</td>\n",
       "    </tr>\n",
       "    <tr>\n",
       "      <th>4</th>\n",
       "      <td>5.0</td>\n",
       "      <td>20.0</td>\n",
       "      <td>10.0</td>\n",
       "      <td>discount</td>\n",
       "      <td>2.0</td>\n",
       "      <td>M</td>\n",
       "      <td>53.0</td>\n",
       "      <td>71000.0</td>\n",
       "      <td>0</td>\n",
       "      <td>0</td>\n",
       "      <td>0</td>\n",
       "      <td>0.001310</td>\n",
       "    </tr>\n",
       "  </tbody>\n",
       "</table>\n",
       "</div>"
      ],
      "text/plain": [
       "   reward  difficulty  duration offer_type  total_channels   gender   age  \\\n",
       "0     5.0         5.0       7.0       bogo             3.0        F  58.0   \n",
       "1     5.0        20.0      10.0   discount             2.0  Unknown   NaN   \n",
       "2     5.0         5.0       7.0       bogo             3.0        M  78.0   \n",
       "3     2.0        10.0       7.0   discount             3.0        F  46.0   \n",
       "4     5.0        20.0      10.0   discount             2.0        M  53.0   \n",
       "\n",
       "    income  tenure  offer_viewed_flag  conversion_flag  pred_prob  \n",
       "0  88000.0       1                  1                0   0.830645  \n",
       "1      NaN       1                  0                0   0.001296  \n",
       "2  77000.0       2                  1                1   0.911853  \n",
       "3  75000.0       3                  1                1   0.942162  \n",
       "4  71000.0       0                  0                0   0.001310  "
      ]
     },
     "execution_count": 9,
     "metadata": {},
     "output_type": "execute_result"
    }
   ],
   "source": [
    "df = X_test.copy()\n",
    "df['conversion_flag'] = Y_test.values\n",
    "df['pred_prob'] = Y_pred_prob.values\n",
    "df.head()"
   ]
  },
  {
   "cell_type": "markdown",
   "metadata": {},
   "source": [
    "## Classifying Observations "
   ]
  },
  {
   "cell_type": "markdown",
   "metadata": {},
   "source": [
    "Recall that our f1 score was maximized when the predicted probability threshold was 0.398718. We'll classify our data using this threshold"
   ]
  },
  {
   "cell_type": "code",
   "execution_count": 10,
   "metadata": {},
   "outputs": [
    {
     "data": {
      "text/html": [
       "<div>\n",
       "<style scoped>\n",
       "    .dataframe tbody tr th:only-of-type {\n",
       "        vertical-align: middle;\n",
       "    }\n",
       "\n",
       "    .dataframe tbody tr th {\n",
       "        vertical-align: top;\n",
       "    }\n",
       "\n",
       "    .dataframe thead th {\n",
       "        text-align: right;\n",
       "    }\n",
       "</style>\n",
       "<table border=\"1\" class=\"dataframe\">\n",
       "  <thead>\n",
       "    <tr style=\"text-align: right;\">\n",
       "      <th></th>\n",
       "      <th>reward</th>\n",
       "      <th>difficulty</th>\n",
       "      <th>duration</th>\n",
       "      <th>offer_type</th>\n",
       "      <th>total_channels</th>\n",
       "      <th>gender</th>\n",
       "      <th>age</th>\n",
       "      <th>income</th>\n",
       "      <th>tenure</th>\n",
       "      <th>offer_viewed_flag</th>\n",
       "      <th>conversion_flag</th>\n",
       "      <th>pred_prob</th>\n",
       "      <th>prediction</th>\n",
       "    </tr>\n",
       "  </thead>\n",
       "  <tbody>\n",
       "    <tr>\n",
       "      <th>0</th>\n",
       "      <td>5.0</td>\n",
       "      <td>5.0</td>\n",
       "      <td>7.0</td>\n",
       "      <td>bogo</td>\n",
       "      <td>3.0</td>\n",
       "      <td>F</td>\n",
       "      <td>58.0</td>\n",
       "      <td>88000.0</td>\n",
       "      <td>1</td>\n",
       "      <td>1</td>\n",
       "      <td>0</td>\n",
       "      <td>0.830645</td>\n",
       "      <td>True</td>\n",
       "    </tr>\n",
       "    <tr>\n",
       "      <th>1</th>\n",
       "      <td>5.0</td>\n",
       "      <td>20.0</td>\n",
       "      <td>10.0</td>\n",
       "      <td>discount</td>\n",
       "      <td>2.0</td>\n",
       "      <td>Unknown</td>\n",
       "      <td>NaN</td>\n",
       "      <td>NaN</td>\n",
       "      <td>1</td>\n",
       "      <td>0</td>\n",
       "      <td>0</td>\n",
       "      <td>0.001296</td>\n",
       "      <td>False</td>\n",
       "    </tr>\n",
       "    <tr>\n",
       "      <th>2</th>\n",
       "      <td>5.0</td>\n",
       "      <td>5.0</td>\n",
       "      <td>7.0</td>\n",
       "      <td>bogo</td>\n",
       "      <td>3.0</td>\n",
       "      <td>M</td>\n",
       "      <td>78.0</td>\n",
       "      <td>77000.0</td>\n",
       "      <td>2</td>\n",
       "      <td>1</td>\n",
       "      <td>1</td>\n",
       "      <td>0.911853</td>\n",
       "      <td>True</td>\n",
       "    </tr>\n",
       "    <tr>\n",
       "      <th>3</th>\n",
       "      <td>2.0</td>\n",
       "      <td>10.0</td>\n",
       "      <td>7.0</td>\n",
       "      <td>discount</td>\n",
       "      <td>3.0</td>\n",
       "      <td>F</td>\n",
       "      <td>46.0</td>\n",
       "      <td>75000.0</td>\n",
       "      <td>3</td>\n",
       "      <td>1</td>\n",
       "      <td>1</td>\n",
       "      <td>0.942162</td>\n",
       "      <td>True</td>\n",
       "    </tr>\n",
       "    <tr>\n",
       "      <th>4</th>\n",
       "      <td>5.0</td>\n",
       "      <td>20.0</td>\n",
       "      <td>10.0</td>\n",
       "      <td>discount</td>\n",
       "      <td>2.0</td>\n",
       "      <td>M</td>\n",
       "      <td>53.0</td>\n",
       "      <td>71000.0</td>\n",
       "      <td>0</td>\n",
       "      <td>0</td>\n",
       "      <td>0</td>\n",
       "      <td>0.001310</td>\n",
       "      <td>False</td>\n",
       "    </tr>\n",
       "  </tbody>\n",
       "</table>\n",
       "</div>"
      ],
      "text/plain": [
       "   reward  difficulty  duration offer_type  total_channels   gender   age  \\\n",
       "0     5.0         5.0       7.0       bogo             3.0        F  58.0   \n",
       "1     5.0        20.0      10.0   discount             2.0  Unknown   NaN   \n",
       "2     5.0         5.0       7.0       bogo             3.0        M  78.0   \n",
       "3     2.0        10.0       7.0   discount             3.0        F  46.0   \n",
       "4     5.0        20.0      10.0   discount             2.0        M  53.0   \n",
       "\n",
       "    income  tenure  offer_viewed_flag  conversion_flag  pred_prob  prediction  \n",
       "0  88000.0       1                  1                0   0.830645        True  \n",
       "1      NaN       1                  0                0   0.001296       False  \n",
       "2  77000.0       2                  1                1   0.911853        True  \n",
       "3  75000.0       3                  1                1   0.942162        True  \n",
       "4  71000.0       0                  0                0   0.001310       False  "
      ]
     },
     "execution_count": 10,
     "metadata": {},
     "output_type": "execute_result"
    }
   ],
   "source": [
    "df['prediction'] = df['pred_prob'] > 0.398718\n",
    "df.head()"
   ]
  },
  {
   "cell_type": "markdown",
   "metadata": {},
   "source": [
    "## Classify them as Correct or Not"
   ]
  },
  {
   "cell_type": "code",
   "execution_count": 11,
   "metadata": {},
   "outputs": [
    {
     "data": {
      "text/plain": [
       "(12660, 13)"
      ]
     },
     "execution_count": 11,
     "metadata": {},
     "output_type": "execute_result"
    }
   ],
   "source": [
    "df.shape"
   ]
  },
  {
   "cell_type": "code",
   "execution_count": 12,
   "metadata": {},
   "outputs": [
    {
     "data": {
      "text/plain": [
       "0.611611374407583"
      ]
     },
     "execution_count": 12,
     "metadata": {},
     "output_type": "execute_result"
    }
   ],
   "source": [
    "df['prediction'].mean()"
   ]
  },
  {
   "cell_type": "code",
   "execution_count": 13,
   "metadata": {},
   "outputs": [],
   "source": [
    "df['accurate'] = np.where(df['conversion_flag']==df['prediction'], 1, 0)"
   ]
  },
  {
   "cell_type": "code",
   "execution_count": 14,
   "metadata": {},
   "outputs": [
    {
     "data": {
      "text/html": [
       "<div>\n",
       "<style scoped>\n",
       "    .dataframe tbody tr th:only-of-type {\n",
       "        vertical-align: middle;\n",
       "    }\n",
       "\n",
       "    .dataframe tbody tr th {\n",
       "        vertical-align: top;\n",
       "    }\n",
       "\n",
       "    .dataframe thead th {\n",
       "        text-align: right;\n",
       "    }\n",
       "</style>\n",
       "<table border=\"1\" class=\"dataframe\">\n",
       "  <thead>\n",
       "    <tr style=\"text-align: right;\">\n",
       "      <th></th>\n",
       "      <th>reward</th>\n",
       "      <th>difficulty</th>\n",
       "      <th>duration</th>\n",
       "      <th>offer_type</th>\n",
       "      <th>total_channels</th>\n",
       "      <th>gender</th>\n",
       "      <th>age</th>\n",
       "      <th>income</th>\n",
       "      <th>tenure</th>\n",
       "      <th>offer_viewed_flag</th>\n",
       "      <th>conversion_flag</th>\n",
       "      <th>pred_prob</th>\n",
       "      <th>prediction</th>\n",
       "      <th>accurate</th>\n",
       "    </tr>\n",
       "  </thead>\n",
       "  <tbody>\n",
       "    <tr>\n",
       "      <th>0</th>\n",
       "      <td>5.0</td>\n",
       "      <td>5.0</td>\n",
       "      <td>7.0</td>\n",
       "      <td>bogo</td>\n",
       "      <td>3.0</td>\n",
       "      <td>F</td>\n",
       "      <td>58.0</td>\n",
       "      <td>88000.0</td>\n",
       "      <td>1</td>\n",
       "      <td>1</td>\n",
       "      <td>0</td>\n",
       "      <td>0.830645</td>\n",
       "      <td>True</td>\n",
       "      <td>0</td>\n",
       "    </tr>\n",
       "    <tr>\n",
       "      <th>1</th>\n",
       "      <td>5.0</td>\n",
       "      <td>20.0</td>\n",
       "      <td>10.0</td>\n",
       "      <td>discount</td>\n",
       "      <td>2.0</td>\n",
       "      <td>Unknown</td>\n",
       "      <td>NaN</td>\n",
       "      <td>NaN</td>\n",
       "      <td>1</td>\n",
       "      <td>0</td>\n",
       "      <td>0</td>\n",
       "      <td>0.001296</td>\n",
       "      <td>False</td>\n",
       "      <td>1</td>\n",
       "    </tr>\n",
       "    <tr>\n",
       "      <th>2</th>\n",
       "      <td>5.0</td>\n",
       "      <td>5.0</td>\n",
       "      <td>7.0</td>\n",
       "      <td>bogo</td>\n",
       "      <td>3.0</td>\n",
       "      <td>M</td>\n",
       "      <td>78.0</td>\n",
       "      <td>77000.0</td>\n",
       "      <td>2</td>\n",
       "      <td>1</td>\n",
       "      <td>1</td>\n",
       "      <td>0.911853</td>\n",
       "      <td>True</td>\n",
       "      <td>1</td>\n",
       "    </tr>\n",
       "    <tr>\n",
       "      <th>3</th>\n",
       "      <td>2.0</td>\n",
       "      <td>10.0</td>\n",
       "      <td>7.0</td>\n",
       "      <td>discount</td>\n",
       "      <td>3.0</td>\n",
       "      <td>F</td>\n",
       "      <td>46.0</td>\n",
       "      <td>75000.0</td>\n",
       "      <td>3</td>\n",
       "      <td>1</td>\n",
       "      <td>1</td>\n",
       "      <td>0.942162</td>\n",
       "      <td>True</td>\n",
       "      <td>1</td>\n",
       "    </tr>\n",
       "    <tr>\n",
       "      <th>4</th>\n",
       "      <td>5.0</td>\n",
       "      <td>20.0</td>\n",
       "      <td>10.0</td>\n",
       "      <td>discount</td>\n",
       "      <td>2.0</td>\n",
       "      <td>M</td>\n",
       "      <td>53.0</td>\n",
       "      <td>71000.0</td>\n",
       "      <td>0</td>\n",
       "      <td>0</td>\n",
       "      <td>0</td>\n",
       "      <td>0.001310</td>\n",
       "      <td>False</td>\n",
       "      <td>1</td>\n",
       "    </tr>\n",
       "  </tbody>\n",
       "</table>\n",
       "</div>"
      ],
      "text/plain": [
       "   reward  difficulty  duration offer_type  total_channels   gender   age  \\\n",
       "0     5.0         5.0       7.0       bogo             3.0        F  58.0   \n",
       "1     5.0        20.0      10.0   discount             2.0  Unknown   NaN   \n",
       "2     5.0         5.0       7.0       bogo             3.0        M  78.0   \n",
       "3     2.0        10.0       7.0   discount             3.0        F  46.0   \n",
       "4     5.0        20.0      10.0   discount             2.0        M  53.0   \n",
       "\n",
       "    income  tenure  offer_viewed_flag  conversion_flag  pred_prob  prediction  \\\n",
       "0  88000.0       1                  1                0   0.830645        True   \n",
       "1      NaN       1                  0                0   0.001296       False   \n",
       "2  77000.0       2                  1                1   0.911853        True   \n",
       "3  75000.0       3                  1                1   0.942162        True   \n",
       "4  71000.0       0                  0                0   0.001310       False   \n",
       "\n",
       "   accurate  \n",
       "0         0  \n",
       "1         1  \n",
       "2         1  \n",
       "3         1  \n",
       "4         1  "
      ]
     },
     "execution_count": 14,
     "metadata": {},
     "output_type": "execute_result"
    }
   ],
   "source": [
    "df.head()"
   ]
  },
  {
   "cell_type": "markdown",
   "metadata": {},
   "source": [
    "## Predicted Probabilities Grouped"
   ]
  },
  {
   "cell_type": "code",
   "execution_count": 15,
   "metadata": {},
   "outputs": [
    {
     "data": {
      "image/png": "[encoded data removed]",
      "text/plain": [
       "<Figure size 432x288 with 1 Axes>"
      ]
     },
     "metadata": {
      "needs_background": "light"
     },
     "output_type": "display_data"
    },
    {
     "data": {
      "text/plain": [
       "''"
      ]
     },
     "execution_count": 15,
     "metadata": {},
     "output_type": "execute_result"
    }
   ],
   "source": [
    "accurate_mask = df['accurate'] == 1\n",
    "x = df[accurate_mask]['pred_prob']\n",
    "y = df[~accurate_mask]['pred_prob']\n",
    "\n",
    "plt.hist(x, bins=20, alpha=0.5, label='accurate')\n",
    "plt.hist(y, bins=20, alpha=0.5, label='not accurate')\n",
    "plt.title('Predicted Probabilities', fontsize=18)\n",
    "# plt.xlabel('Predicted Probability', fontsize=16)\n",
    "plt.ylabel('Frequency', fontsize=16)\n",
    "# plt.savefig('../images/pred_probs_accuracy.png')\n",
    "plt.legend(loc='upper right')\n",
    "plt.show()\n",
    ";"
   ]
  },
  {
   "cell_type": "markdown",
   "metadata": {},
   "source": [
    "The plot shows the majority of missclassifications occurred when the predicted probability was in the middle range (0.4-07).\n",
    "\n",
    "There were fewer missclassification when the predicted probabilities were very small (.e. < 0.2). Conversely you can see that there are slightly more missclassifications on the high end of predicted probability"
   ]
  },
  {
   "cell_type": "markdown",
   "metadata": {},
   "source": [
    "## Avg. Accuracy by User Demos"
   ]
  },
  {
   "cell_type": "markdown",
   "metadata": {},
   "source": [
    "### Tenure"
   ]
  },
  {
   "cell_type": "code",
   "execution_count": 16,
   "metadata": {},
   "outputs": [
    {
     "data": {
      "text/plain": [
       "''"
      ]
     },
     "execution_count": 16,
     "metadata": {},
     "output_type": "execute_result"
    },
    {
     "data": {
      "image/png": "[encoded data removed]",
      "text/plain": [
       "<Figure size 432x288 with 1 Axes>"
      ]
     },
     "metadata": {
      "needs_background": "light"
     },
     "output_type": "display_data"
    }
   ],
   "source": [
    "accuracy_by_tenure = df.groupby('tenure')['accurate'].mean()\n",
    "plt.bar(accuracy_by_tenure.index, accuracy_by_tenure.values)\n",
    "plt.title('Avg. Accuracy by Tenure', fontsize=18)\n",
    "plt.xlabel('Tenure (Years)', fontsize=16)\n",
    "plt.ylabel('Avg. Accuracy', fontsize=16)\n",
    "# plt.savefig('../images/accuracy_by_tenure.png')\n",
    ";\n"
   ]
  },
  {
   "cell_type": "markdown",
   "metadata": {},
   "source": [
    "We see that the accuracy is slightly lower for newer customers, those with less than 2 years tenure"
   ]
  },
  {
   "cell_type": "markdown",
   "metadata": {},
   "source": [
    "### Gender"
   ]
  },
  {
   "cell_type": "code",
   "execution_count": 17,
   "metadata": {},
   "outputs": [
    {
     "data": {
      "text/plain": [
       "''"
      ]
     },
     "execution_count": 17,
     "metadata": {},
     "output_type": "execute_result"
    },
    {
     "data": {
      "image/png": "[encoded data removed]",
      "text/plain": [
       "<Figure size 432x288 with 1 Axes>"
      ]
     },
     "metadata": {
      "needs_background": "light"
     },
     "output_type": "display_data"
    }
   ],
   "source": [
    "accuracy_by_gender = df.groupby('gender')['accurate'].mean()\n",
    "plt.bar(accuracy_by_gender.index, accuracy_by_gender.values)\n",
    "plt.title('Avg. Accuracy by Gender', fontsize=18)\n",
    "plt.xlabel('Gender', fontsize=16)\n",
    "plt.ylabel('Avg. Accuracy', fontsize=16)\n",
    "# plt.savefig('../images/accuracy_by_gender.png')\n",
    ";"
   ]
  },
  {
   "cell_type": "markdown",
   "metadata": {},
   "source": [
    "The accuracy by gender is fairly consistent, though a bit lower for males"
   ]
  },
  {
   "cell_type": "markdown",
   "metadata": {},
   "source": [
    "### Income"
   ]
  },
  {
   "cell_type": "code",
   "execution_count": 18,
   "metadata": {},
   "outputs": [
    {
     "data": {
      "text/plain": [
       "Low       3774\n",
       "High      3621\n",
       "Medium    3621\n",
       "Name: income_bin, dtype: int64"
      ]
     },
     "execution_count": 18,
     "metadata": {},
     "output_type": "execute_result"
    }
   ],
   "source": [
    "# create income bins\n",
    "income_bins = ['Low', 'Medium', 'High']\n",
    "df['income_bin'] = pd.qcut(df['income'], \n",
    "                              q=3,\n",
    "                              labels=income_bins)\n",
    "df['income_bin'].value_counts()"
   ]
  },
  {
   "cell_type": "code",
   "execution_count": 19,
   "metadata": {},
   "outputs": [
    {
     "data": {
      "text/plain": [
       "income_bin\n",
       "Low       42935.612083\n",
       "Medium    63880.419774\n",
       "High      90358.188346\n",
       "Name: income, dtype: float64"
      ]
     },
     "execution_count": 19,
     "metadata": {},
     "output_type": "execute_result"
    }
   ],
   "source": [
    "# confirm bins make sense\n",
    "df.groupby('income_bin')['income'].mean()"
   ]
  },
  {
   "cell_type": "code",
   "execution_count": 20,
   "metadata": {},
   "outputs": [
    {
     "data": {
      "text/plain": [
       "''"
      ]
     },
     "execution_count": 20,
     "metadata": {},
     "output_type": "execute_result"
    },
    {
     "data": {
      "image/png": "[encoded data removed]",
      "text/plain": [
       "<Figure size 432x288 with 1 Axes>"
      ]
     },
     "metadata": {
      "needs_background": "light"
     },
     "output_type": "display_data"
    }
   ],
   "source": [
    "accuracy_by_income = df.groupby('income_bin')['accurate'].mean()\n",
    "plt.bar(accuracy_by_income.index, accuracy_by_income.values)\n",
    "plt.title('Avg. Accuracy by Income Bin', fontsize=18)\n",
    "plt.xlabel('Income Bin', fontsize=16)\n",
    "plt.ylabel('Avg. Accuracy', fontsize=16)\n",
    "# plt.savefig('../images/accuracy_by_income.png')\n",
    ";"
   ]
  },
  {
   "cell_type": "markdown",
   "metadata": {},
   "source": [
    "Accuracy is slightly higher among high income users"
   ]
  },
  {
   "cell_type": "markdown",
   "metadata": {},
   "source": [
    "### Age"
   ]
  },
  {
   "cell_type": "code",
   "execution_count": 21,
   "metadata": {},
   "outputs": [
    {
     "data": {
      "text/plain": [
       "Low       3809\n",
       "High      3649\n",
       "Medium    3558\n",
       "Name: age_bin, dtype: int64"
      ]
     },
     "execution_count": 21,
     "metadata": {},
     "output_type": "execute_result"
    }
   ],
   "source": [
    "# create income bins\n",
    "age_bins = ['Low', 'Medium', 'High']\n",
    "df['age_bin'] = pd.qcut(df['age'], \n",
    "                              q=3,\n",
    "                              labels=age_bins)\n",
    "df['age_bin'].value_counts()"
   ]
  },
  {
   "cell_type": "code",
   "execution_count": 22,
   "metadata": {},
   "outputs": [
    {
     "data": {
      "text/plain": [
       "age_bin\n",
       "Low       35.075085\n",
       "Medium    55.441540\n",
       "High      73.303645\n",
       "Name: age, dtype: float64"
      ]
     },
     "execution_count": 22,
     "metadata": {},
     "output_type": "execute_result"
    }
   ],
   "source": [
    "# confirm bins make sense\n",
    "df.groupby('age_bin')['age'].mean()"
   ]
  },
  {
   "cell_type": "code",
   "execution_count": 23,
   "metadata": {},
   "outputs": [
    {
     "data": {
      "text/plain": [
       "''"
      ]
     },
     "execution_count": 23,
     "metadata": {},
     "output_type": "execute_result"
    },
    {
     "data": {
      "image/png": "[encoded data removed]",
      "text/plain": [
       "<Figure size 432x288 with 1 Axes>"
      ]
     },
     "metadata": {
      "needs_background": "light"
     },
     "output_type": "display_data"
    }
   ],
   "source": [
    "accuracy_by_age = df.groupby('age_bin')['accurate'].mean()\n",
    "plt.bar(accuracy_by_age.index, accuracy_by_age.values)\n",
    "plt.title('Avg. Accuracy by Age Bin', fontsize=18)\n",
    "plt.xlabel('Age Bin', fontsize=16)\n",
    "plt.ylabel('Avg. Accuracy', fontsize=16)\n",
    "# plt.savefig('../images/accuracy_by_age.png')\n",
    ";"
   ]
  },
  {
   "cell_type": "markdown",
   "metadata": {},
   "source": [
    "## Avg. Accuracy by Offer Metadata"
   ]
  },
  {
   "cell_type": "markdown",
   "metadata": {},
   "source": [
    "### Offer Type"
   ]
  },
  {
   "cell_type": "code",
   "execution_count": 24,
   "metadata": {},
   "outputs": [
    {
     "data": {
      "text/plain": [
       "''"
      ]
     },
     "execution_count": 24,
     "metadata": {},
     "output_type": "execute_result"
    },
    {
     "data": {
      "image/png": "[encoded data removed]",
      "text/plain": [
       "<Figure size 432x288 with 1 Axes>"
      ]
     },
     "metadata": {
      "needs_background": "light"
     },
     "output_type": "display_data"
    }
   ],
   "source": [
    "accuracy_by_offer = df.groupby('offer_type')['accurate'].mean()\n",
    "plt.bar(accuracy_by_offer.index, accuracy_by_offer.values)\n",
    "plt.title('Avg. Accuracy by Offer Type', fontsize=18)\n",
    "plt.xlabel('Offer Type', fontsize=16)\n",
    "plt.ylabel('Avg. Accuracy', fontsize=16)\n",
    "# plt.savefig('../images/accuracy_by_offer.png')\n",
    ";"
   ]
  },
  {
   "cell_type": "markdown",
   "metadata": {},
   "source": [
    "### Total Channels"
   ]
  },
  {
   "cell_type": "code",
   "execution_count": 25,
   "metadata": {},
   "outputs": [
    {
     "data": {
      "text/plain": [
       "''"
      ]
     },
     "execution_count": 25,
     "metadata": {},
     "output_type": "execute_result"
    },
    {
     "data": {
      "image/png": "[encoded data removed]",
      "text/plain": [
       "<Figure size 432x288 with 1 Axes>"
      ]
     },
     "metadata": {
      "needs_background": "light"
     },
     "output_type": "display_data"
    }
   ],
   "source": [
    "accuracy_by_channel = df.groupby('total_channels')['accurate'].mean()\n",
    "plt.bar(accuracy_by_channel.index, accuracy_by_channel.values)\n",
    "plt.title('Avg. Accuracy by Offer Type', fontsize=18)\n",
    "plt.xlabel('Offer Type', fontsize=16)\n",
    "plt.ylabel('Avg. Accuracy', fontsize=16)\n",
    "# plt.savefig('../images/accuracy_by_offer.png')\n",
    ";"
   ]
  },
  {
   "cell_type": "code",
   "execution_count": 26,
   "metadata": {},
   "outputs": [
    {
     "data": {
      "text/plain": [
       "total_channels\n",
       "2.0    0.908575\n",
       "3.0    0.838453\n",
       "4.0    0.742172\n",
       "Name: accurate, dtype: float64"
      ]
     },
     "execution_count": 26,
     "metadata": {},
     "output_type": "execute_result"
    }
   ],
   "source": [
    "accuracy_by_channel"
   ]
  },
  {
   "cell_type": "markdown",
   "metadata": {},
   "source": [
    "We can see pretty significant difference in the avg. accuracy by the nuimber of channels used to communicate the offer. There is a negative relationship with the number of channels and the avg. accuracy"
   ]
  },
  {
   "cell_type": "markdown",
   "metadata": {},
   "source": [
    "### Individual Offers"
   ]
  },
  {
   "cell_type": "code",
   "execution_count": 27,
   "metadata": {},
   "outputs": [
    {
     "data": {
      "text/plain": [
       "offer_type  reward  difficulty  duration\n",
       "bogo        5.0     5.0         5.0         0.713313\n",
       "                                7.0         0.875866\n",
       "            10.0    10.0        5.0         0.737978\n",
       "                                7.0         0.769476\n",
       "discount    2.0     10.0        7.0         0.870839\n",
       "                                10.0        0.760994\n",
       "            3.0     7.0         7.0         0.756975\n",
       "            5.0     20.0        10.0        0.908575\n",
       "Name: accurate, dtype: float64"
      ]
     },
     "execution_count": 27,
     "metadata": {},
     "output_type": "execute_result"
    }
   ],
   "source": [
    "df.groupby(['offer_type','reward', 'difficulty', 'duration'])['accurate'].mean()"
   ]
  },
  {
   "cell_type": "markdown",
   "metadata": {},
   "source": [
    "The offer with the lowest conversion avg. accuracy was 5 dollar BOGO at 71.3%. The 5 dollar Discount had the highest avg. accuracy at 90.9%"
   ]
  }
 ],
 "metadata": {
  "kernelspec": {
   "display_name": "Python 3",
   "language": "python",
   "name": "python3"
  },
  "language_info": {
   "codemirror_mode": {
    "name": "ipython",
    "version": 3
   },
   "file_extension": ".py",
   "mimetype": "text/x-python",
   "name": "python",
   "nbconvert_exporter": "python",
   "pygments_lexer": "ipython3",
   "version": "3.6.10"
  }
 },
 "nbformat": 4,
 "nbformat_minor": 5
}
